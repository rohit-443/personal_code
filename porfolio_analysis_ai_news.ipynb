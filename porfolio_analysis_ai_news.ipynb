{
  "nbformat": 4,
  "nbformat_minor": 0,
  "metadata": {
    "colab": {
      "provenance": []
    },
    "kernelspec": {
      "name": "python3",
      "display_name": "Python 3"
    },
    "language_info": {
      "name": "python"
    }
  },
  "cells": [
    {
      "cell_type": "code",
      "execution_count": null,
      "metadata": {
        "id": "Atxxp43bLk8r"
      },
      "outputs": [],
      "source": [
        "import yfinance as yf"
      ]
    },
    {
      "cell_type": "code",
      "source": [
        "from google.colab import drive\n",
        "drive.mount('/content/drive')"
      ],
      "metadata": {
        "id": "eo9U89OUMMUE"
      },
      "execution_count": null,
      "outputs": []
    },
    {
      "cell_type": "code",
      "source": [
        "import pandas as pd\n",
        "import os\n",
        "file_path= \"/content/drive/My Drive/Porfolio_Data/\"\n",
        "files = os.listdir(file_path)\n",
        "files.sort()"
      ],
      "metadata": {
        "id": "XrVyZs36NUio"
      },
      "execution_count": null,
      "outputs": []
    },
    {
      "cell_type": "code",
      "source": [
        "import csv\n",
        "with open (file_path+files[-1], \"r\") as f:\n",
        "  df=pd.read_csv(f)"
      ],
      "metadata": {
        "id": "5DjAK72nQKg6"
      },
      "execution_count": null,
      "outputs": []
    },
    {
      "cell_type": "code",
      "source": [
        "def get_analytics (stock_details_dict):\n",
        "  results=[]\n",
        "  data = yf.download(stock_details_dict[\"symbol\"], period=\"400d\", interval=\"1d\", progress=False)\n",
        "  if data.empty:\n",
        "    raise Exception(\"No data found\")\n",
        "    return None\n",
        "  else:\n",
        "    closes = data['Close'].dropna()\n",
        "    if len(closes)<365:\n",
        "      return None\n",
        "    else:\n",
        "      closes = closes.sort_index(ascending=True)\n",
        "      today_close = closes.iloc[-1]\n",
        "      yesterday_close = closes.iloc[-2]\n",
        "      close_7 = closes.iloc[-7]\n",
        "      close_30 = closes.iloc[-30]\n",
        "      close_90 = closes.iloc[-90]\n",
        "      close_180 = closes.iloc[-180]\n",
        "      close_365 = closes.iloc[-365]\n",
        "\n",
        "      invested_amt_str = \"0.0(0.0%)\"\n",
        "      if stock_details_dict['invested_amt'] > 0:\n",
        "        invested_amt_str = str(stock_details_dict['invested_amt'])+'('+str(round(((float(today_close)*float(stock_details_dict['no_of_shares']))-float(stock_details_dict['invested_amt']))/float(stock_details_dict['invested_amt'])*100,2))+'%)'\n",
        "\n",
        "      results.append({  \"symbol\": stock_details_dict[\"symbol\"],\n",
        "                      \"today_close\": round(float(today_close),2),\n",
        "                      \"yesterday_close\": str(round(float(yesterday_close),2))+'('+str(round(((float(today_close)-float(yesterday_close))/float(yesterday_close))*100,2))+'%)',\n",
        "                      \"close_7\": str(round(float(close_7),2))+'('+str(round(((float(today_close)-float(close_7))/float(close_7))*100,2))+'%)',\n",
        "                      \"close_30\": str(round(float(close_30),2))+'('+str(round(((float(today_close)-float(close_30))/float(close_30))*100,2))+'%)',\n",
        "                      \"close_90\": str(round(float(close_90),2))+'('+str(round(((float(today_close)-float(close_90))/float(close_90))*100,2))+'%)',\n",
        "                      \"close_180\": str(round(float(close_180),2))+'('+str(round(((float(today_close)-float(close_180))/float(close_180))*100,2))+'%)',\n",
        "                      \"close_365\": str(round(float(close_365),2))+'('+str(round(((float(today_close)-float(close_365))/float(close_365))*100,2))+'%)',\n",
        "                      \"invested_amt\": invested_amt_str,\n",
        "                      \"average_buy_price\": stock_details_dict['avg'],\n",
        "                      \"no_of_shares\": stock_details_dict['no_of_shares']\n",
        "                      })\n",
        "\n",
        "  return results"
      ],
      "metadata": {
        "id": "qdz3jrI7MT19"
      },
      "execution_count": null,
      "outputs": []
    },
    {
      "cell_type": "code",
      "source": [
        "stock_details=[]\n",
        "for i in df[\"Instrument\"]:\n",
        "  stock_details.append({\"symbol\": i+'.NS',\n",
        "                        \"avg\": float(df[df['Instrument']==i]['Avg. cost'].values[0]),\n",
        "                        \"no_of_shares\": int(df[df['Instrument']==i]['Qty.'].values[0]),\n",
        "                        \"invested_amt\": float(df[df['Instrument']==i]['Invested'].values[0])})\n",
        "\n",
        "results_df = pd.DataFrame(columns=['symbol', 'today_close', 'yesterday_close', 'close_7', 'close_30', 'close_90', 'close_180', 'close_365', 'invested_amt', 'average_buy_price', 'no_of_shares'])\n",
        "\n",
        "for i in stock_details:\n",
        "    analytics_result = get_analytics(i)\n",
        "    if analytics_result:\n",
        "        results_df = pd.concat([results_df, pd.DataFrame(analytics_result)], ignore_index=True)\n",
        "\n",
        "display(results_df)"
      ],
      "metadata": {
        "id": "fcKSiiYbc8wW"
      },
      "execution_count": null,
      "outputs": []
    },
    {
      "cell_type": "code",
      "source": [
        "def generate_stock_impact_analysis_prompt(today, ticker):\n",
        "    \"\"\"\n",
        "    Generates a detailed prompt for Gemini API to analyze market data\n",
        "    and its impact on a specific stock.\n",
        "    \"\"\"\n",
        "    prompt = f\"\"\" Asking you on date {today}\n",
        "    Act as a highly experienced financial analyst. Your task is to provide a concise, insightful analysis of the current market news and its potential impact on company having ticker as per yahoo finance** ({ticker})**.\n",
        "\n",
        "    Focus specifically on the past 24-48 hours of significant news.\n",
        "\n",
        "    Provide the analysis in two main sections:\n",
        "\n",
        "    **1. Short-Term Impact Analysis (Next 1-7 Days):**\n",
        "    - Summarize the 1-2 most critical recent news items or market developments directly impacting {ticker}.\n",
        "    - Explain how these developments are likely to influence {ticker}'s stock price over the next 1 to 7 trading days.\n",
        "    - Indicate the expected sentiment (positive, negative, neutral) and the primary reasons.\n",
        "    - Mention any immediate catalysts or risks.\n",
        "\n",
        "    **2. Long-Term Impact Analysis (Next 1-6+ Months):**\n",
        "    - Identify any current trends, macroeconomic factors, industry-specific shifts, or regulatory changes that, based on recent news, could have a sustained impact on {ticker}'s performance over the next 1 month to 6+ months.\n",
        "    - Explain the potential long-term implications (e.g., changes in revenue streams, market position, competitive landscape, valuation multiples).\n",
        "    - Provide a high-level outlook (positive, negative, neutral) for the stock's long-term trajectory based on these factors.\n",
        "\n",
        "    **Output Format:**\n",
        "    Please use clear headings and bullet points for readability. Avoid jargon where simpler terms suffice. Keep the response to a maximum of 400 words.\n",
        "\n",
        "    **Example Context (Do not use this for analysis, this is just for your understanding):**\n",
        "    If there's news about a new product launch, discuss its potential to increase short-term sales and long-term market share. If there's news about rising interest rates, discuss its impact on the company's borrowing costs (short-term) and valuation (long-term).\n",
        "    \"\"\"\n",
        "    return prompt"
      ],
      "metadata": {
        "id": "mTX7xbz1OLWp"
      },
      "execution_count": null,
      "outputs": []
    },
    {
      "cell_type": "code",
      "source": [
        "import json\n",
        "import requests\n",
        "from google.colab import userdata # For securely accessing your API key\n",
        "import datetime\n",
        "\n",
        "CURRENT_DATE = datetime.date.today()\n",
        "latest_stock_news= pd.DataFrame(columns=['symbol', 'news'])\n",
        "\n",
        "for i in results_df['symbol']:\n",
        "  API_KEY = userdata.get('GOOGLE_API_KEY') # Get from Colab Secrets\n",
        "\n",
        "  model_id = 'gemini-2.0-flash'\n",
        "  url = f\"https://generativelanguage.googleapis.com/v1beta/models/{model_id}:generateContent?key={API_KEY}\"\n",
        "\n",
        "  headers = {\n",
        "      \"Content-Type\": \"application/json\",\n",
        "  }\n",
        "\n",
        "  payload = {\n",
        "      \"contents\": [\n",
        "          {\n",
        "              \"parts\": [\n",
        "                  {\"text\": generate_stock_impact_analysis_prompt(CURRENT_DATE, i)}\n",
        "              ]\n",
        "          }\n",
        "      ],\n",
        "      \"generationConfig\": {\n",
        "          \"temperature\": 0.5,\n",
        "          \"maxOutputTokens\": 500\n",
        "      },\n",
        "      \"safetySettings\": [\n",
        "          {\"category\": \"HARM_CATEGORY_HARASSMENT\", \"threshold\": \"BLOCK_NONE\"},\n",
        "          {\"category\": \"HARM_CATEGORY_HATE_SPEECH\", \"threshold\": \"BLOCK_NONE\"},\n",
        "          {\"category\": \"HARM_CATEGORY_SEXUALLY_EXPLICIT\", \"threshold\": \"BLOCK_NONE\"},\n",
        "          {\"category\": \"HARM_CATEGORY_DANGEROUS_CONTENT\", \"threshold\": \"BLOCK_NONE\"},\n",
        "      ]\n",
        "  }\n",
        "\n",
        "  try:\n",
        "      response = requests.post(url, headers=headers, json=payload)\n",
        "      response.raise_for_status() # Raise an HTTPError for bad responses (4xx or 5xx)\n",
        "\n",
        "      response_json = response.json()\n",
        "      if 'candidates' in response_json and len(response_json['candidates']) > 0:\n",
        "          generated_text = response_json['candidates'][0]['content']['parts'][0]['text']\n",
        "          print(f\"\\n--- AI Generated Text for---{i}\")\n",
        "          print(generated_text)\n",
        "          latest_stock_news= pd.concat([latest_stock_news, pd.DataFrame([{'symbol': i, 'news': generated_text}])], ignore_index=True)\n",
        "      else:\n",
        "          print(\"\\n--- No AI Generated Content Found ---\")\n",
        "\n",
        "  except requests.exceptions.HTTPError as e:\n",
        "      print(f\"HTTP Error: {e}\")\n",
        "      print(f\"Response Body: {e.response.text}\")\n",
        "  except requests.exceptions.ConnectionError as e:\n",
        "      print(f\"Connection Error: {e}\")\n",
        "  except requests.exceptions.Timeout as e:\n",
        "      print(f\"Timeout Error: {e}\")\n",
        "  except requests.exceptions.RequestException as e:\n",
        "      print(f\"An error occurred: {e}\")\n",
        "  except json.JSONDecodeError:\n",
        "      print(f\"Failed to decode JSON from response: {response.text}\")"
      ],
      "metadata": {
        "id": "CfGSH5hiOGBk"
      },
      "execution_count": null,
      "outputs": []
    },
    {
      "cell_type": "code",
      "source": [
        "import smtplib\n",
        "from email.mime.multipart import MIMEMultipart\n",
        "from email.mime.text import MIMEText\n",
        "from google.colab import userdata\n",
        "\n",
        "# Email configuration\n",
        "sender_email = 'your_name@gmail.com'\n",
        "receiver_email = 'your_name@gmail.com'\n",
        "# Get the App Password from Colab secrets\n",
        "password = userdata.get('GMAIL_APP_PASSWORD')\n",
        "\n",
        "\n",
        "# Create the email message\n",
        "message = MIMEMultipart()\n",
        "message['From'] = sender_email\n",
        "message['To'] = receiver_email\n",
        "message['Subject'] = 'Portfolio Analysis Results'\n",
        "\n",
        "# Convert DataFrame to HTML\n",
        "html1 = results_df.to_html()\n",
        "html2 = latest_stock_news.to_html()\n",
        "\n",
        "# Attach the HTML to the email\n",
        "message.attach(MIMEText(html1, 'html'))\n",
        "message.attach(MIMEText(html2, 'html'))\n",
        "\n",
        "# Send the email\n",
        "try:\n",
        "    server = smtplib.SMTP('smtp.gmail.com', 587)\n",
        "    server.starttls()\n",
        "    server.login(sender_email, password)\n",
        "    text = message.as_string()\n",
        "    server.sendmail(sender_email, receiver_email, text)\n",
        "    server.quit()\n",
        "    print('Email sent successfully!')\n",
        "except Exception as e:\n",
        "    print(f\"Failed to send email: {e}\")"
      ],
      "metadata": {
        "id": "MRuCsyFoL8Fu"
      },
      "execution_count": null,
      "outputs": []
    }
  ]
}
